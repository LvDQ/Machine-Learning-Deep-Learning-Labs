{
 "cells": [
  {
   "cell_type": "code",
   "execution_count": 1,
   "metadata": {},
   "outputs": [
    {
     "name": "stdout",
     "output_type": "stream",
     "text": [
      "[ 0.   0.1  0.2  0.3  0.4  0.5  0.6  0.7  0.8  0.9  1.   1.1  1.2  1.3  1.4\n",
      "  1.5  1.6  1.7  1.8  1.9  2.   2.1  2.2  2.3  2.4  2.5  2.6  2.7  2.8  2.9\n",
      "  3. ]\n"
     ]
    }
   ],
   "source": [
    "import numpy as np\n",
    "import sklearn.linear_model\n",
    "import matplotlib\n",
    "import matplotlib.pyplot as plt\n",
    "%matplotlib inline\n",
    "\n",
    "X=np.linspace(0,3,31)\n",
    "#X=np.linspace(0,1,10)\n",
    "print(X)\n",
    "TF=X"
   ]
  },
  {
   "cell_type": "code",
   "execution_count": 2,
   "metadata": {},
   "outputs": [
    {
     "name": "stdout",
     "output_type": "stream",
     "text": [
      "[ 1.    1.19  1.36  1.51  1.64  1.75  1.84  1.91  1.96  1.99  2.    1.99\n",
      "  1.96  1.91  1.84  1.75  1.64  1.51  1.36  1.19  1.    0.79  0.56  0.31\n",
      "  0.04 -0.25 -0.56 -0.89 -1.24 -1.61 -2.  ]\n"
     ]
    }
   ],
   "source": [
    "Abeta = [-1,2,1]\n",
    "TF=np.polyval(Abeta,X)\n",
    "print(TF)"
   ]
  },
  {
   "cell_type": "code",
   "execution_count": 3,
   "metadata": {},
   "outputs": [
    {
     "name": "stdout",
     "output_type": "stream",
     "text": [
      "[ 1.    1.19  1.36  1.51  1.64  1.75  1.84  1.91  1.96  1.99]\n"
     ]
    }
   ],
   "source": [
    "Xtr=np.mat(X[:10]).T\n",
    "ytr=TF[:10]\n",
    "print(ytr)"
   ]
  },
  {
   "cell_type": "code",
   "execution_count": 4,
   "metadata": {},
   "outputs": [
    {
     "name": "stdout",
     "output_type": "stream",
     "text": [
      "[ 1.12  1.1 ]\n"
     ]
    }
   ],
   "source": [
    "regr = sklearn.linear_model.LinearRegression()\n",
    "regr.fit(Xtr,ytr)\n",
    "beta=np.zeros(2)\n",
    "beta[0]=regr.intercept_\n",
    "beta[1]=regr.coef_\n",
    "print(beta)"
   ]
  },
  {
   "cell_type": "code",
   "execution_count": 5,
   "metadata": {},
   "outputs": [
    {
     "name": "stdout",
     "output_type": "stream",
     "text": [
      "[ 1.12  1.23  1.34  1.45  1.56  1.67  1.78  1.89  2.    2.11  2.22  2.33\n",
      "  2.44  2.55  2.66  2.77  2.88  2.99  3.1   3.21  3.32  3.43  3.54  3.65\n",
      "  3.76  3.87  3.98  4.09  4.2   4.31  4.42]\n"
     ]
    }
   ],
   "source": [
    "Esti_Value=np.polyval(beta[::-1],X)\n",
    "print(Esti_Value)"
   ]
  },
  {
   "cell_type": "code",
   "execution_count": 6,
   "metadata": {},
   "outputs": [
    {
     "name": "stdout",
     "output_type": "stream",
     "text": [
      "[ 1.12  1.23  1.34  1.45  1.56  1.67  1.78  1.89  2.    2.11  2.22  2.33\n",
      "  2.44  2.55  2.66  2.77  2.88  2.99  3.1   3.21  3.32  3.43  3.54  3.65\n",
      "  3.76  3.87  3.98  4.09  4.2   4.31  4.42]\n"
     ]
    }
   ],
   "source": [
    "EV=regr.predict(np.mat(X).T)\n",
    "print(EV)"
   ]
  },
  {
   "cell_type": "markdown",
   "metadata": {},
   "source": [
    "EV and Esti_Value are the same. Esti_Value is how sklearn.linear.predict() works."
   ]
  },
  {
   "cell_type": "markdown",
   "metadata": {},
   "source": [
    "## (c) Here is the plot of estimate function and true function for x in [0,3]"
   ]
  },
  {
   "cell_type": "code",
   "execution_count": 7,
   "metadata": {},
   "outputs": [
    {
     "data": {
      "text/plain": [
       "<matplotlib.legend.Legend at 0x7f78953ae9b0>"
      ]
     },
     "execution_count": 7,
     "metadata": {},
     "output_type": "execute_result"
    },
    {
     "data": {
      "image/png": "[encoded data removed]",
      "text/plain": [
       "<matplotlib.figure.Figure at 0x7f7862622cc0>"
      ]
     },
     "metadata": {},
     "output_type": "display_data"
    }
   ],
   "source": [
    "plt.plot(X,TF)\n",
    "plt.plot(X,EV)\n",
    "plt.xlabel('X')\n",
    "plt.ylabel('Y')\n",
    "plt.legend(['True Value', 'Estimate Value'],loc='upper left')"
   ]
  },
  {
   "cell_type": "code",
   "execution_count": 8,
   "metadata": {},
   "outputs": [
    {
     "name": "stdout",
     "output_type": "stream",
     "text": [
      "41.2164\n",
      "3.0\n"
     ]
    }
   ],
   "source": [
    "Bias=np.zeros(31)\n",
    "for i in range(31):\n",
    "    Bias[i]=(EV[i]-TF[i])**2\n",
    "print(np.max(Bias))\n",
    "print(X[np.argmax(Bias)])"
   ]
  },
  {
   "cell_type": "markdown",
   "metadata": {
    "collapsed": true
   },
   "source": [
    "## (d) So, because of the function monotonicity, when x=3, it has the largest bias 41.2164."
   ]
  }
 ],
 "metadata": {
  "kernelspec": {
   "display_name": "Python 3",
   "language": "python",
   "name": "python3"
  },
  "language_info": {
   "codemirror_mode": {
    "name": "ipython",
    "version": 3
   },
   "file_extension": ".py",
   "mimetype": "text/x-python",
   "name": "python",
   "nbconvert_exporter": "python",
   "pygments_lexer": "ipython3",
   "version": "3.6.1"
  }
 },
 "nbformat": 4,
 "nbformat_minor": 2
}
